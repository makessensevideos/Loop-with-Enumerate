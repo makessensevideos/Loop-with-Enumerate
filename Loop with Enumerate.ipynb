{
 "cells": [
  {
   "cell_type": "code",
   "execution_count": 4,
   "metadata": {},
   "outputs": [],
   "source": [
    "import json"
   ]
  },
  {
   "cell_type": "code",
   "execution_count": 6,
   "metadata": {},
   "outputs": [
    {
     "name": "stdout",
     "output_type": "stream",
     "text": [
      "[{'title': \"Amblin'\", 'release_date': '1968-12-18'}, {'title': 'Night Gallery', 'release_date': '1969-11-08'}, {'title': 'LA 2017', 'release_date': '1971-01-15'}, {'title': 'Duel', 'release_date': '1971-11-13'}, {'title': 'Something Evil', 'release_date': '1972-01-21'}, {'title': 'Savage', 'release_date': '1973-03-31'}, {'title': 'The Sugarland Express', 'release_date': '1974-04-05'}, {'title': 'Jaws', 'release_date': '1975-06-20'}, {'title': 'Close Encounters of the Third Kind', 'release_date': '1977-11-18'}, {'title': '1941', 'release_date': '1979-12-14'}, {'title': 'Raiders of the Lost Ark', 'release_date': '1981-06-12'}, {'title': 'E.T. the Extra-Terrestrial', 'release_date': '1982-06-11'}, {'title': 'Twilight Zone: The Movie', 'release_date': '1983-06-24'}, {'title': 'Indiana Jones and the Temple of Doom', 'release_date': '1984-05-23'}, {'title': 'The Color Purple', 'release_date': '1985-12-18'}, {'title': 'Amazing Stories', 'release_date': '1986-07-10'}, {'title': 'Empire of the Sun', 'release_date': '1987-12-09'}, {'title': 'Indiana Jones and the Last Crusade', 'release_date': '1989-05-24'}, {'title': 'Always', 'release_date': '1989-12-22'}, {'title': 'Hook', 'release_date': '1991-04-10'}, {'title': 'Jurassic Park', 'release_date': '1993-06-11'}, {'title': \"Schindler's List\", 'release_date': '1993-11-30'}, {'title': 'The Lost World: Jurassic Park', 'release_date': '1997-05-23'}, {'title': 'Amistad', 'release_date': '1997-12-10'}, {'title': 'Saving Private Ryan', 'release_date': '1998-07-24'}, {'title': 'The Unfinished Journey', 'release_date': '1999-12-31'}, {'title': 'A.I. Artificial Intelligence', 'release_date': '2001-06-29'}, {'title': 'Minority Report', 'release_date': '2002-06-20'}, {'title': 'Catch Me If You Can', 'release_date': '2002-12-25'}, {'title': 'The Terminal', 'release_date': '2004-06-17'}, {'title': 'War of the Worlds', 'release_date': '2005-06-28'}, {'title': 'Munich', 'release_date': '2005-12-23'}, {'title': 'Indiana Jones and the Kingdom of the Crystal Skull', 'release_date': '2008-05-21'}, {'title': 'A Timeless Call', 'release_date': '2008-08-07'}, {'title': 'The Adventures of Tintin', 'release_date': '2011-10-24'}, {'title': 'War Horse', 'release_date': '2011-12-25'}, {'title': 'Lincoln', 'release_date': '2012-11-09'}, {'title': 'Bridge of Spies', 'release_date': '2015-10-15'}, {'title': 'The BFG', 'release_date': '2016-06-01'}, {'title': 'The Post', 'release_date': '2017-01-19'}, {'title': 'Ready Player One', 'release_date': '2018-03-28'}, {'title': 'West Side Story', 'release_date': '2021-12-08'}, {'title': 'The Fabelmans', 'release_date': '2022-11-23'}]\n"
     ]
    }
   ],
   "source": [
    "with open('director_credits_list.json') as f:\n",
    "    director_credits_list = json.load(f)\n",
    "print(director_credits_list)"
   ]
  },
  {
   "cell_type": "code",
   "execution_count": 7,
   "metadata": {},
   "outputs": [
    {
     "name": "stdout",
     "output_type": "stream",
     "text": [
      "0 1968-12-18 Amblin'\n",
      "1 1969-11-08 Night Gallery\n",
      "2 1971-01-15 LA 2017\n",
      "3 1971-11-13 Duel\n",
      "4 1972-01-21 Something Evil\n",
      "5 1973-03-31 Savage\n",
      "6 1974-04-05 The Sugarland Express\n",
      "7 1975-06-20 Jaws\n",
      "8 1977-11-18 Close Encounters of the Third Kind\n",
      "9 1979-12-14 1941\n",
      "10 1981-06-12 Raiders of the Lost Ark\n",
      "11 1982-06-11 E.T. the Extra-Terrestrial\n",
      "12 1983-06-24 Twilight Zone: The Movie\n",
      "13 1984-05-23 Indiana Jones and the Temple of Doom\n",
      "14 1985-12-18 The Color Purple\n",
      "15 1986-07-10 Amazing Stories\n",
      "16 1987-12-09 Empire of the Sun\n",
      "17 1989-05-24 Indiana Jones and the Last Crusade\n",
      "18 1989-12-22 Always\n",
      "19 1991-04-10 Hook\n",
      "20 1993-06-11 Jurassic Park\n",
      "21 1993-11-30 Schindler's List\n",
      "22 1997-05-23 The Lost World: Jurassic Park\n",
      "23 1997-12-10 Amistad\n",
      "24 1998-07-24 Saving Private Ryan\n",
      "25 1999-12-31 The Unfinished Journey\n",
      "26 2001-06-29 A.I. Artificial Intelligence\n",
      "27 2002-06-20 Minority Report\n",
      "28 2002-12-25 Catch Me If You Can\n",
      "29 2004-06-17 The Terminal\n",
      "30 2005-06-28 War of the Worlds\n",
      "31 2005-12-23 Munich\n",
      "32 2008-05-21 Indiana Jones and the Kingdom of the Crystal Skull\n",
      "33 2008-08-07 A Timeless Call\n",
      "34 2011-10-24 The Adventures of Tintin\n",
      "35 2011-12-25 War Horse\n",
      "36 2012-11-09 Lincoln\n",
      "37 2015-10-15 Bridge of Spies\n",
      "38 2016-06-01 The BFG\n",
      "39 2017-01-19 The Post\n",
      "40 2018-03-28 Ready Player One\n",
      "41 2021-12-08 West Side Story\n",
      "42 2022-11-23 The Fabelmans\n"
     ]
    }
   ],
   "source": [
    "for idx, credit in enumerate(director_credits_list):\n",
    "    print(idx, credit['release_date'], credit['title'])"
   ]
  },
  {
   "cell_type": "code",
   "execution_count": null,
   "metadata": {},
   "outputs": [],
   "source": []
  }
 ],
 "metadata": {
  "kernelspec": {
   "display_name": "Python 3",
   "language": "python",
   "name": "python3"
  },
  "language_info": {
   "codemirror_mode": {
    "name": "ipython",
    "version": 3
   },
   "file_extension": ".py",
   "mimetype": "text/x-python",
   "name": "python",
   "nbconvert_exporter": "python",
   "pygments_lexer": "ipython3",
   "version": "3.7.3"
  }
 },
 "nbformat": 4,
 "nbformat_minor": 2
}
